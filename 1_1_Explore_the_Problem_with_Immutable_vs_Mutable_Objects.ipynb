{
  "nbformat": 4,
  "nbformat_minor": 0,
  "metadata": {
    "colab": {
      "provenance": [],
      "authorship_tag": "ABX9TyN2Hh7L6Fu2wCkPhh+/U/rG",
      "include_colab_link": true
    },
    "kernelspec": {
      "name": "python3",
      "display_name": "Python 3"
    },
    "language_info": {
      "name": "python"
    }
  },
  "cells": [
    {
      "cell_type": "markdown",
      "metadata": {
        "id": "view-in-github",
        "colab_type": "text"
      },
      "source": [
        "<a href=\"https://colab.research.google.com/github/d-geula/Explore-Python-Fundamentals-Part-1/blob/main/1_1_Explore_the_Problem_with_Immutable_vs_Mutable_Objects.ipynb\" target=\"_parent\"><img src=\"https://colab.research.google.com/assets/colab-badge.svg\" alt=\"Open In Colab\"/></a>"
      ]
    },
    {
      "cell_type": "markdown",
      "source": [
        "## Understanding the ways Python variables behave\n",
        "**Immutable types (int, float, str, tuple)**: When you assign an immutable object to a new variable, both variables point to the same object. If you modify the new variable, it creates a new object and does not affect the original variable.\n",
        "\n",
        "**Mutable types (list, dict)**: When you assign a mutable object to a new variable, both variables point to the same object. If you modify the new variable, it affects the original variable because they share the same object. However, if you reassign the new variable to a new object, it does not affect the original variable."
      ],
      "metadata": {
        "id": "Ey9fp81gYiKW"
      }
    },
    {
      "cell_type": "code",
      "execution_count": null,
      "metadata": {
        "colab": {
          "base_uri": "https://localhost:8080/"
        },
        "id": "68PC-n0BMEtt",
        "outputId": "862db0cd-430a-4b5e-e53a-4eeafbab0adf"
      },
      "outputs": [
        {
          "output_type": "stream",
          "name": "stdout",
          "text": [
            "Before modification:\n",
            "int_a = 2\n",
            "int_b = 2\n",
            "\n",
            "After modification:\n",
            "int_a = 2\n",
            "int_b = 4\n",
            "\n"
          ]
        }
      ],
      "source": [
        "int_a = 2\n",
        "int_b = int_a\n",
        "\n",
        "print(f\"Before modification:\\nint_a = {int_a}\\nint_b = {int_b}\\n\")\n",
        "\n",
        "int_b = 4\n",
        "\n",
        "print(f\"After modification:\\nint_a = {int_a}\\nint_b = {int_b}\\n\")"
      ]
    },
    {
      "cell_type": "code",
      "source": [
        "flt_a = 1.5\n",
        "flt_b = flt_a\n",
        "\n",
        "print(f\"Before modification:\\nflt_a = {flt_a}\\nflt_b = {flt_b}\\n\")\n",
        "\n",
        "flt_b = 2.34\n",
        "\n",
        "print(f\"After modification:\\nflt_a = {flt_a}\\nflt_b = {flt_b}\\n\")"
      ],
      "metadata": {
        "colab": {
          "base_uri": "https://localhost:8080/"
        },
        "id": "sMDtHk-ENfDQ",
        "outputId": "ce56c079-30ef-468e-aa64-ed00506840f4"
      },
      "execution_count": null,
      "outputs": [
        {
          "output_type": "stream",
          "name": "stdout",
          "text": [
            "Before modification:\n",
            "flt_a = 1.5\n",
            "flt_b = 1.5\n",
            "\n",
            "After modification:\n",
            "flt_a = 1.5\n",
            "flt_b = 2.34\n",
            "\n"
          ]
        }
      ]
    },
    {
      "cell_type": "code",
      "source": [
        "str_a = \"foo\"\n",
        "str_b = str_a\n",
        "\n",
        "print(f\"Before modification:\\nstr_a = {str_a}\\nstr_b = {str_b}\\n\")\n",
        "\n",
        "str_b = \"bar\"\n",
        "\n",
        "print(f\"After modification:\\nstr_a = {str_a}\\nstr_b = {str_b}\\n\")"
      ],
      "metadata": {
        "colab": {
          "base_uri": "https://localhost:8080/"
        },
        "id": "4hQYt1QZNxsJ",
        "outputId": "0346b649-9261-4d8f-dd2d-609cde8bcf35"
      },
      "execution_count": null,
      "outputs": [
        {
          "output_type": "stream",
          "name": "stdout",
          "text": [
            "Before modification:\n",
            "str_a = foo\n",
            "str_b = foo\n",
            "\n",
            "After modification:\n",
            "str_a = foo\n",
            "str_b = bar\n",
            "\n"
          ]
        }
      ]
    },
    {
      "cell_type": "code",
      "source": [
        "lst_a = [1, 2, 3, 4]\n",
        "lst_b = lst_a\n",
        "\n",
        "print(f\"Before modification:\\nlst_a = {lst_a}\\nlst_b = {lst_b}\\n\")\n",
        "\n",
        "lst_b[0] = 0\n",
        "\n",
        "print(f\"After modification:\\nlst_a = {lst_a}\\nlst_b = {lst_b}\\n\")\n",
        "\n",
        "lst_b = [4, 3, 2, 1]\n",
        "\n",
        "print(f\"After setting to new object:\\nlst_a = {lst_a}\\nlst_b = {lst_b}\")"
      ],
      "metadata": {
        "colab": {
          "base_uri": "https://localhost:8080/"
        },
        "id": "sXNDTBh1OUpF",
        "outputId": "a966533f-558c-46ba-af2b-9f5e8fc4fa50"
      },
      "execution_count": 19,
      "outputs": [
        {
          "output_type": "stream",
          "name": "stdout",
          "text": [
            "Before modification:\n",
            "lst_a = [1, 2, 3, 4]\n",
            "lst_b = [1, 2, 3, 4]\n",
            "\n",
            "After modification:\n",
            "lst_a = [0, 2, 3, 4]\n",
            "lst_b = [0, 2, 3, 4]\n",
            "\n",
            "After setting to new object:\n",
            "lst_a = [0, 2, 3, 4]\n",
            "lst_b = [4, 3, 2, 1]\n"
          ]
        }
      ]
    },
    {
      "cell_type": "code",
      "source": [
        "tpl_a = (1, 2, 3)\n",
        "tpl_b = tpl_a\n",
        "\n",
        "print(f\"Before modification:\\ntpl_a = {tpl_a}\\ntpl_b = {tpl_b}\\n\")\n",
        "\n",
        "try:\n",
        "  tpl_b[0] = 42\n",
        "except Exception as e:\n",
        "  print(f\"Error: {e}.\\nCannot modify an element of tuple in this way as it is an immutable object.\\n\")\n",
        "\n",
        "tpl_b = (4, 5, 6)\n",
        "\n",
        "print(f\"After setting to new object:\\ntpl_a = {tpl_a}\\ntpl_b = {tpl_b}\")"
      ],
      "metadata": {
        "colab": {
          "base_uri": "https://localhost:8080/"
        },
        "id": "GQ06NF0eOtu2",
        "outputId": "dcd832ec-b190-46d7-93a3-395ecc7fa2a3"
      },
      "execution_count": 23,
      "outputs": [
        {
          "output_type": "stream",
          "name": "stdout",
          "text": [
            "Before modification:\n",
            "tpl_a = (1, 2, 3)\n",
            "tpl_b = (1, 2, 3)\n",
            "\n",
            "Error: 'tuple' object does not support item assignment.\n",
            "Cannot modify an element of tuple in this way as it is an immutable object.\n",
            "\n",
            "After setting to new object:\n",
            "tpl_a = (1, 2, 3)\n",
            "tpl_b = (4, 5, 6)\n"
          ]
        }
      ]
    },
    {
      "cell_type": "code",
      "source": [
        "dict_a = {\"a\": 1, \"b\": 2}\n",
        "dict_b = dict_a\n",
        "\n",
        "print(f\"Before modification:\\ndict_a = {dict_a}\\ndict_b = {dict_b}\\n\")\n",
        "\n",
        "dict_b[\"a\"] = 0\n",
        "\n",
        "print(f\"After modification:\\ndict_a = {dict_a}\\ndict_b = {dict_b}\\n\")\n",
        "\n",
        "dict_b = {\"a\": 2, \"b\": 1}\n",
        "\n",
        "print(f\"After setting to new object:\\ntpl_a = {dict_a}\\ntpl_b = {dict_b}\")"
      ],
      "metadata": {
        "id": "hfUmyDpAUqf3",
        "colab": {
          "base_uri": "https://localhost:8080/"
        },
        "outputId": "6d0976ec-2e13-484d-d3f4-917b43d2d6b5"
      },
      "execution_count": 24,
      "outputs": [
        {
          "output_type": "stream",
          "name": "stdout",
          "text": [
            "Before modification:\n",
            "dict_a = {'a': 1, 'b': 2}\n",
            "dict_b = {'a': 1, 'b': 2}\n",
            "\n",
            "After modification:\n",
            "dict_a = {'a': 0, 'b': 2}\n",
            "dict_b = {'a': 0, 'b': 2}\n",
            "\n",
            "After setting to new object:\n",
            "tpl_a = {'a': 0, 'b': 2}\n",
            "tpl_b = {'a': 2, 'b': 1}\n"
          ]
        }
      ]
    }
  ]
}